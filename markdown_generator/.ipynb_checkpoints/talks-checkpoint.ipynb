{
 "cells": [
  {
   "cell_type": "markdown",
   "metadata": {},
   "source": [
    "# Talks markdown generator for academicpages\n",
    "\n",
    "Takes a TSV of talks with metadata and converts them for use with [academicpages.github.io](academicpages.github.io). This is an interactive Jupyter notebook ([see more info here](http://jupyter-notebook-beginner-guide.readthedocs.io/en/latest/what_is_jupyter.html)). The core python code is also in `talks.py`. Run either from the `markdown_generator` folder after replacing `talks.tsv` with one containing your data.\n",
    "\n",
    "TODO: Make this work with BibTex and other databases, rather than Stuart's non-standard TSV format and citation style."
   ]
  },
  {
   "cell_type": "code",
   "execution_count": 13,
   "metadata": {},
   "outputs": [],
   "source": [
    "import pandas as pd\n",
    "import os"
   ]
  },
  {
   "cell_type": "markdown",
   "metadata": {},
   "source": [
    "## Data format\n",
    "\n",
    "The TSV needs to have the following columns: title, type, url_slug, venue, date, location, talk_url, description, with a header at the top. Many of these fields can be blank, but the columns must be in the TSV.\n",
    "\n",
    "- Fields that cannot be blank: `title`, `url_slug`, `date`. All else can be blank. `type` defaults to \"Talk\" \n",
    "- `date` must be formatted as YYYY-MM-DD.\n",
    "- `url_slug` will be the descriptive part of the .md file and the permalink URL for the page about the paper. \n",
    "    - The .md file will be `YYYY-MM-DD-[url_slug].md` and the permalink will be `https://[yourdomain]/talks/YYYY-MM-DD-[url_slug]`\n",
    "    - The combination of `url_slug` and `date` must be unique, as it will be the basis for your filenames\n",
    "\n",
    "This is how the raw file looks (it doesn't look pretty, use a spreadsheet or other program to edit and create)."
   ]
  },
  {
   "cell_type": "code",
   "execution_count": 2,
   "metadata": {},
   "outputs": [
    {
     "name": "stderr",
     "output_type": "stream",
     "text": [
      "'cat' is not recognized as an internal or external command,\n",
      "operable program or batch file.\n"
     ]
    }
   ],
   "source": [
    "!cat talks.tsv"
   ]
  },
  {
   "cell_type": "markdown",
   "metadata": {},
   "source": [
    "## Import TSV\n",
    "\n",
    "Pandas makes this easy with the read_csv function. We are using a TSV, so we specify the separator as a tab, or `\\t`.\n",
    "\n",
    "I found it important to put this data in a tab-separated values format, because there are a lot of commas in this kind of data and comma-separated values can get messed up. However, you can modify the import statement, as pandas also has read_excel(), read_json(), and others."
   ]
  },
  {
   "cell_type": "code",
   "execution_count": 14,
   "metadata": {},
   "outputs": [
    {
     "data": {
      "text/html": [
       "<div>\n",
       "<style scoped>\n",
       "    .dataframe tbody tr th:only-of-type {\n",
       "        vertical-align: middle;\n",
       "    }\n",
       "\n",
       "    .dataframe tbody tr th {\n",
       "        vertical-align: top;\n",
       "    }\n",
       "\n",
       "    .dataframe thead th {\n",
       "        text-align: right;\n",
       "    }\n",
       "</style>\n",
       "<table border=\"1\" class=\"dataframe\">\n",
       "  <thead>\n",
       "    <tr style=\"text-align: right;\">\n",
       "      <th></th>\n",
       "      <th>title</th>\n",
       "      <th>type</th>\n",
       "      <th>url_slug</th>\n",
       "      <th>venue</th>\n",
       "      <th>date</th>\n",
       "      <th>location</th>\n",
       "      <th>talk_url</th>\n",
       "      <th>description</th>\n",
       "    </tr>\n",
       "  </thead>\n",
       "  <tbody>\n",
       "    <tr>\n",
       "      <td>0</td>\n",
       "      <td>Computing partition functions with one clean q...</td>\n",
       "      <td>Invited seminar</td>\n",
       "      <td>bristol_21</td>\n",
       "      <td>University of Bristol</td>\n",
       "      <td>2021-03-31</td>\n",
       "      <td>Bristol, UK (remote)</td>\n",
       "      <td>NaN</td>\n",
       "      <td>NaN</td>\n",
       "    </tr>\n",
       "    <tr>\n",
       "      <td>1</td>\n",
       "      <td>Simulating thermal physics on quantum computers</td>\n",
       "      <td>Invited seminar</td>\n",
       "      <td>waterloo_20</td>\n",
       "      <td>University of Waterloo</td>\n",
       "      <td>2021-03-12</td>\n",
       "      <td>Waterloo, ON, Canada</td>\n",
       "      <td>NaN</td>\n",
       "      <td>NaN</td>\n",
       "    </tr>\n",
       "    <tr>\n",
       "      <td>2</td>\n",
       "      <td>Computing partition functions with one clean q...</td>\n",
       "      <td>Conference talk</td>\n",
       "      <td>tqc_20</td>\n",
       "      <td>Theory of Quantum Computation, Communication a...</td>\n",
       "      <td>2020-06-10</td>\n",
       "      <td>Riga, Latvia (remote)</td>\n",
       "      <td>https://www.youtube.com/watch?v=sc_rWyCVZRY&amp;t=...</td>\n",
       "      <td>NaN</td>\n",
       "    </tr>\n",
       "    <tr>\n",
       "      <td>3</td>\n",
       "      <td>Simulating thermal physics on quantum computers</td>\n",
       "      <td>Conference talk</td>\n",
       "      <td>intriq_19</td>\n",
       "      <td>INTRIQ Fall meeting</td>\n",
       "      <td>2019-11-11</td>\n",
       "      <td>Bromont, QC, Canada</td>\n",
       "      <td>https://www.intriq.org/index.php?mact=News,cnt...</td>\n",
       "      <td>NaN</td>\n",
       "    </tr>\n",
       "    <tr>\n",
       "      <td>4</td>\n",
       "      <td>Improved quantum simulation algorithms using a...</td>\n",
       "      <td>Invited seminar</td>\n",
       "      <td>lanl_19</td>\n",
       "      <td>Los Alamos National Laboratory</td>\n",
       "      <td>2019-08-22</td>\n",
       "      <td>Los Alamos, NM, USA</td>\n",
       "      <td>NaN</td>\n",
       "      <td>NaN</td>\n",
       "    </tr>\n",
       "    <tr>\n",
       "      <td>5</td>\n",
       "      <td>Improved implementation of reflection operators</td>\n",
       "      <td>Conference talk</td>\n",
       "      <td>aps_19</td>\n",
       "      <td>American Physical Society March Meeting</td>\n",
       "      <td>2019-03-04</td>\n",
       "      <td>Boston, MA, USA</td>\n",
       "      <td>https://meetings.aps.org/Meeting/MAR19/Session...</td>\n",
       "      <td>NaN</td>\n",
       "    </tr>\n",
       "    <tr>\n",
       "      <td>6</td>\n",
       "      <td>Improved quantum algorithms using linear combi...</td>\n",
       "      <td>Conference talk</td>\n",
       "      <td>squint_18</td>\n",
       "      <td>Southwest Quantum Information and Technology W...</td>\n",
       "      <td>2018-02-23</td>\n",
       "      <td>Santa Fe, NM, USA</td>\n",
       "      <td>http://physics.unm.edu/SQuInT/2018/abstracts.p...</td>\n",
       "      <td>NaN</td>\n",
       "    </tr>\n",
       "    <tr>\n",
       "      <td>7</td>\n",
       "      <td>Quantum algorithms for hitting-time estimation</td>\n",
       "      <td>Conference talk</td>\n",
       "      <td>aps_16</td>\n",
       "      <td>American Physical Society March meeting</td>\n",
       "      <td>2016-03-15</td>\n",
       "      <td>Baltimore, MD, USA</td>\n",
       "      <td>http://meetings.aps.org/Meeting/MAR16/Session/...</td>\n",
       "      <td>NaN</td>\n",
       "    </tr>\n",
       "  </tbody>\n",
       "</table>\n",
       "</div>"
      ],
      "text/plain": [
       "                                               title             type  \\\n",
       "0  Computing partition functions with one clean q...  Invited seminar   \n",
       "1    Simulating thermal physics on quantum computers  Invited seminar   \n",
       "2  Computing partition functions with one clean q...  Conference talk   \n",
       "3    Simulating thermal physics on quantum computers  Conference talk   \n",
       "4  Improved quantum simulation algorithms using a...  Invited seminar   \n",
       "5    Improved implementation of reflection operators  Conference talk   \n",
       "6  Improved quantum algorithms using linear combi...  Conference talk   \n",
       "7     Quantum algorithms for hitting-time estimation  Conference talk   \n",
       "\n",
       "      url_slug                                              venue        date  \\\n",
       "0   bristol_21                              University of Bristol  2021-03-31   \n",
       "1  waterloo_20                             University of Waterloo  2021-03-12   \n",
       "2       tqc_20  Theory of Quantum Computation, Communication a...  2020-06-10   \n",
       "3    intriq_19                                INTRIQ Fall meeting  2019-11-11   \n",
       "4      lanl_19                     Los Alamos National Laboratory  2019-08-22   \n",
       "5       aps_19            American Physical Society March Meeting  2019-03-04   \n",
       "6    squint_18  Southwest Quantum Information and Technology W...  2018-02-23   \n",
       "7       aps_16            American Physical Society March meeting  2016-03-15   \n",
       "\n",
       "                location                                           talk_url  \\\n",
       "0   Bristol, UK (remote)                                                NaN   \n",
       "1   Waterloo, ON, Canada                                                NaN   \n",
       "2  Riga, Latvia (remote)  https://www.youtube.com/watch?v=sc_rWyCVZRY&t=...   \n",
       "3    Bromont, QC, Canada  https://www.intriq.org/index.php?mact=News,cnt...   \n",
       "4    Los Alamos, NM, USA                                                NaN   \n",
       "5        Boston, MA, USA  https://meetings.aps.org/Meeting/MAR19/Session...   \n",
       "6      Santa Fe, NM, USA  http://physics.unm.edu/SQuInT/2018/abstracts.p...   \n",
       "7     Baltimore, MD, USA  http://meetings.aps.org/Meeting/MAR16/Session/...   \n",
       "\n",
       "   description  \n",
       "0          NaN  \n",
       "1          NaN  \n",
       "2          NaN  \n",
       "3          NaN  \n",
       "4          NaN  \n",
       "5          NaN  \n",
       "6          NaN  \n",
       "7          NaN  "
      ]
     },
     "execution_count": 14,
     "metadata": {},
     "output_type": "execute_result"
    }
   ],
   "source": [
    "talks = pd.read_csv(\"talks.tsv\", sep=\"\\t\", header=0)\n",
    "talks"
   ]
  },
  {
   "cell_type": "markdown",
   "metadata": {},
   "source": [
    "## Escape special characters\n",
    "\n",
    "YAML is very picky about how it takes a valid string, so we are replacing single and double quotes (and ampersands) with their HTML encoded equivilents. This makes them look not so readable in raw format, but they are parsed and rendered nicely."
   ]
  },
  {
   "cell_type": "code",
   "execution_count": 15,
   "metadata": {},
   "outputs": [],
   "source": [
    "html_escape_table = {\n",
    "    \"&\": \"&amp;\",\n",
    "    '\"': \"&quot;\",\n",
    "    \"'\": \"&apos;\"\n",
    "    }\n",
    "\n",
    "def html_escape(text):\n",
    "    if type(text) is str:\n",
    "        return \"\".join(html_escape_table.get(c,c) for c in text)\n",
    "    else:\n",
    "        return \"False\""
   ]
  },
  {
   "cell_type": "markdown",
   "metadata": {},
   "source": [
    "## Creating the markdown files\n",
    "\n",
    "This is where the heavy lifting is done. This loops through all the rows in the TSV dataframe, then starts to concatentate a big string (```md```) that contains the markdown for each type. It does the YAML metadata first, then does the description for the individual page."
   ]
  },
  {
   "cell_type": "code",
   "execution_count": 16,
   "metadata": {},
   "outputs": [],
   "source": [
    "loc_dict = {}\n",
    "\n",
    "for row, item in talks.iterrows():\n",
    "    \n",
    "    md_filename = str(item.date) + \"-\" + item.url_slug + \".md\"\n",
    "    html_filename = str(item.date) + \"-\" + item.url_slug \n",
    "    year = item.date[:4]\n",
    "    \n",
    "    md = \"---\\ntitle: \\\"\"   + item.title + '\"\\n'\n",
    "    md += \"collection: talks\" + \"\\n\"\n",
    "    \n",
    "    if len(str(item.type)) > 3:\n",
    "        md += 'type: \"' + item.type + '\"\\n'\n",
    "    else:\n",
    "        md += 'type: \"Talk\"\\n'\n",
    "    \n",
    "    md += \"permalink: /talks/\" + html_filename + \"\\n\"\n",
    "    \n",
    "    if len(str(item.venue)) > 3:\n",
    "        md += 'venue: \"' + item.venue + '\"\\n'\n",
    "        \n",
    "    if len(str(item.location)) > 3:\n",
    "        md += \"date: \" + str(item.date) + \"\\n\"\n",
    "    \n",
    "    if len(str(item.location)) > 3:\n",
    "        md += 'location: \"' + str(item.location) + '\"\\n'\n",
    "           \n",
    "    md += \"---\\n\"\n",
    "    \n",
    "    \n",
    "    if len(str(item.talk_url)) > 3:\n",
    "        md += \"\\n[More information here](\" + item.talk_url + \")\\n\" \n",
    "        \n",
    "    \n",
    "    if len(str(item.description)) > 3:\n",
    "        md += \"\\n\" + html_escape(item.description) + \"\\n\"\n",
    "        \n",
    "        \n",
    "    md_filename = os.path.basename(md_filename)\n",
    "    #print(md)\n",
    "    \n",
    "    with open(\"../_talks/\" + md_filename, 'w') as f:\n",
    "        f.write(md)"
   ]
  },
  {
   "cell_type": "markdown",
   "metadata": {},
   "source": [
    "These files are in the talks directory, one directory below where we're working from."
   ]
  },
  {
   "cell_type": "code",
   "execution_count": 6,
   "metadata": {},
   "outputs": [
    {
     "name": "stderr",
     "output_type": "stream",
     "text": [
      "'ls' is not recognized as an internal or external command,\n",
      "operable program or batch file.\n"
     ]
    }
   ],
   "source": [
    "!ls ../_talks"
   ]
  },
  {
   "cell_type": "code",
   "execution_count": 7,
   "metadata": {},
   "outputs": [
    {
     "name": "stderr",
     "output_type": "stream",
     "text": [
      "'cat' is not recognized as an internal or external command,\n",
      "operable program or batch file.\n"
     ]
    }
   ],
   "source": [
    "!cat ../_talks/2013-03-01-tutorial-1.md"
   ]
  },
  {
   "cell_type": "code",
   "execution_count": null,
   "metadata": {},
   "outputs": [],
   "source": []
  }
 ],
 "metadata": {
  "kernelspec": {
   "display_name": "Python 3",
   "language": "python",
   "name": "python3"
  },
  "language_info": {
   "codemirror_mode": {
    "name": "ipython",
    "version": 3
   },
   "file_extension": ".py",
   "mimetype": "text/x-python",
   "name": "python",
   "nbconvert_exporter": "python",
   "pygments_lexer": "ipython3",
   "version": "3.7.4"
  }
 },
 "nbformat": 4,
 "nbformat_minor": 1
}
